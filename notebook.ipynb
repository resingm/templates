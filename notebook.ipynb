{
 "cells": [
  {
   "cell_type": "code",
   "execution_count": null,
   "id": "initial_id",
   "metadata": {
    "collapsed": true,
    "jupyter": {
     "is_executing": true
    }
   },
   "outputs": [],
   "source": [
    "import argparse\n",
    "import decimal\n",
    "import os\n",
    "import pathlib\n",
    "import sys\n",
    "import tempfile\n",
    "from datetime import date, datetime, timedelta\n",
    "\n",
    "import matplotlib.pyplot as plt\n",
    "import matplotlib.dates as mdates\n",
    "import numpy as np\n",
    "import pandas as pd\n",
    "import polars as pl\n",
    "import pyathena as athena\n",
    "from matplotlib.ticker import FuncFormatter, ScalarFormatter\n",
    "from pyathena.pandas.util import as_pandas\n",
    "from IPython.display import display_html\n",
    "\n",
    "# sklearn\n",
    "from sklearn import ensemble\n",
    "from sklearn import neighbors\n",
    "from sklearn import preprocessing\n",
    "\n",
    "# scypi\n",
    "from scipy.spatial import distance\n",
    "\n",
    "# progress bars\n",
    "import tqdm\n",
    "\n",
    "# 1st party\n",
    "whoami = os.getlogin()\n",
    "sys.path.append(f\"/home/{whoami}/workspace/playground\")\n",
    "from pltbox import colors, plots\n",
    "\n",
    "# resample interval\n",
    "RESAMPLE_INTERVAL = 60 * 60  # seconds\n",
    "\n",
    "# Unit lookup table\n",
    "unit_factors = {\n",
    "    \"b\": 1,\n",
    "    \"k\": 1 / 1e3,\n",
    "    \"m\": 1 / 1e6,\n",
    "    \"g\": 1 / 1e9,\n",
    "    \"t\": 1 / 1e12,\n",
    "    \"p\": 1 / 1e15,\n",
    "    \"e\": 1 / 1e18,\n",
    "}\n",
    "\n",
    "def _get_unit_factor(prefix: str) -> tuple[str, float]:\n",
    "    \"\"\"Returns a tuple of label & factor based on the unit prefix as input.\"\"\"\n",
    "    prefix = prefix[0]\n",
    "    assert prefix in unit_factors.keys()\n",
    "    return tuple([f\"{prefix}b/s\", unit_factors[prefix]])\n",
    "\n",
    "# TODO: Move to pltbox\n",
    "\n",
    "\n",
    "pd.options.display.float_format = '{:20,.2f}'.format\n",
    "\n",
    "print(os.getcwd())"
   ]
  },
  {
   "cell_type": "code",
   "execution_count": null,
   "id": "7105ada61ef8ed21",
   "metadata": {},
   "outputs": [],
   "source": []
  }
 ],
 "metadata": {
  "kernelspec": {
   "display_name": "Python 3",
   "language": "python",
   "name": "python3"
  },
  "language_info": {
   "codemirror_mode": {
    "name": "ipython",
    "version": 2
   },
   "file_extension": ".py",
   "mimetype": "text/x-python",
   "name": "python",
   "nbconvert_exporter": "python",
   "pygments_lexer": "ipython2",
   "version": "2.7.6"
  }
 },
 "nbformat": 4,
 "nbformat_minor": 5
}
